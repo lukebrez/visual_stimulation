{
 "cells": [
  {
   "cell_type": "code",
   "execution_count": 1,
   "metadata": {},
   "outputs": [],
   "source": [
    "import numpy as np\n",
    "import sys\n",
    "import random\n",
    "import matplotlib.pyplot as plt"
   ]
  },
  {
   "cell_type": "code",
   "execution_count": 31,
   "metadata": {},
   "outputs": [],
   "source": [
    "imaging_rate = 2.145 #in Hz\n",
    "num_blocks = 5\n",
    "approx_exp_dur = 30 #in minutes\n",
    "inter_block_dur = 30 #in sec\n",
    "post_stim_dur = 2e3 #in ms\n",
    "inter_stim_id = 'grey'\n",
    "seed = random.randrange(1234567890)\n",
    "stimuli_master = []\n",
    "time = 0\n",
    "\n",
    "stimuli = [\n",
    "    ('grating l', 1e3), ('grating u' , 1e3), ('grating r', 1e3), ('grating d', 1e3),\n",
    "    ('loom', 1e3), ('moving object', 1e3), ('light flash', 1e3), ('dark flash', 1e3)\n",
    "]"
   ]
  },
  {
   "cell_type": "code",
   "execution_count": 32,
   "metadata": {},
   "outputs": [],
   "source": [
    "all_stim_dur = sum(_[1] for _ in stimuli) #add durations of all stimuli together\n",
    "all_grey_stim_dur = len(stimuli) * post_stim_dur #total time of grey for one stim cycle\n",
    "all_inter_block_grey_dur = (num_blocks + 1) * inter_block_dur #total time of grey between blocks\n",
    "\n",
    "block_dur = (approx_exp_dur * 60 - all_inter_block_grey_dur / 1e3) / num_blocks #duration of one block\n",
    "\n",
    "#how many times each stim can be displayed in a block\n",
    "num_cycles = int(np.floor(block_dur / (all_stim_dur / 1e3 + all_grey_stim_dur / 1e3)))\n",
    "\n",
    "#amount to shift stimulus onset relative to imaging to end up with even imaging coverage for each stimuli\n",
    "shift_len = (1 / imaging_rate) / num_cycles"
   ]
  },
  {
   "cell_type": "code",
   "execution_count": 33,
   "metadata": {},
   "outputs": [],
   "source": [
    "#set random state\n",
    "r = np.random.RandomState(seed)"
   ]
  },
  {
   "cell_type": "code",
   "execution_count": 34,
   "metadata": {},
   "outputs": [],
   "source": [
    "stimuli_master.append((inter_stim_id, time)) #add grey\n",
    "time += inter_block_dur * 1e3 #update time based on inter block duration\n",
    "\n",
    "#create list of desired shifts (these shifts evenly cover the space between imaging time points)\n",
    "shifts_master = [num * (shift_len * 1e3) for num in list(range(1,num_cycles))]"
   ]
  },
  {
   "cell_type": "code",
   "execution_count": 35,
   "metadata": {},
   "outputs": [],
   "source": [
    "#### MAKE BLOCK LOOP"
   ]
  },
  {
   "cell_type": "code",
   "execution_count": 36,
   "metadata": {},
   "outputs": [],
   "source": [
    "#should each block have the same exact stimtime/imaging time shift? I think I will try without that.\n",
    "\n",
    "for block in range(num_blocks):\n",
    "    #create a list of shuffled stimuli ids\n",
    "    stim_ids = list(range(len(stimuli)))\n",
    "    stim_ids_shuff_first = list(r.permutation(stim_ids))\n",
    "\n",
    "    first_stim = []\n",
    "\n",
    "    #append first cycle of stimuli \n",
    "    for i in stim_ids_shuff_first:\n",
    "        stimuli_master.append((stimuli[i][0], time))\n",
    "        first_stim.append((stimuli[i][0], time))\n",
    "        time += stimuli[i][1]\n",
    "        stimuli_master.append((inter_stim_id, time))\n",
    "        time += post_stim_dur\n",
    "\n",
    "    #Each stimuli needs a random version of shifts_master\n",
    "    shifts_shuff = []\n",
    "    shifts_shuff.append([list(r.permutation(shifts_master)) for stim in range(len(stimuli))])\n",
    "    shifts_shuff = shifts_shuff[0] #remove outer added list layer\n",
    "    #now shifts_shuff[i] gives the stimulus order for the ith stimuli\n",
    "\n",
    "    for cycle in range(num_cycles-1):\n",
    "        stim_ids_shuff = list(r.permutation(stim_ids))\n",
    "        for stim in stim_ids_shuff:\n",
    "            #find index for the desired stim in the first stim list\n",
    "            stim_loc = int(np.where(np.asarray(stim_ids_shuff_first) == stim)[0])\n",
    "\n",
    "            #find time the stim was first displayed\n",
    "            stim1 = first_stim[stim_loc][1]\n",
    "\n",
    "            #based on imaging rate, if stim were displayed now, calculate the stim offset from its first display\n",
    "            stim_offset = (time - stim1) % (1 / imaging_rate * 1e3)\n",
    "\n",
    "            #how much grey delay to add\n",
    "            #NOTE: CHANGE 0 each loop\n",
    "            #print('cycle:', cycle)\n",
    "            delay_to_add = shifts_shuff[stim][cycle] - stim_offset\n",
    "\n",
    "            if delay_to_add < 0:\n",
    "                delay_to_add += 1 / imaging_rate * 1e3\n",
    "\n",
    "            time += delay_to_add\n",
    "\n",
    "            stimuli_master.append((stimuli[stim][0], time))\n",
    "\n",
    "            time += stimuli[stim][1]\n",
    "            stimuli_master.append((inter_stim_id, time))\n",
    "            time += post_stim_dur\n",
    "            \n",
    "    stimuli_master.append((inter_stim_id, time)) #add inter block grey\n",
    "    time += inter_block_dur * 1e3 #update time based on inter block duration\n",
    "    time += r.randint(0,2000) #extend grey by random amount - helps keep blocks independent\n",
    "    \n",
    "times = [ _[1] for _ in stimuli_master]\n",
    "dur = list(np.diff(times))\n",
    "dur.append(inter_block_dur * 1e3)\n",
    "stim = [ _[0] for _ in stimuli_master]"
   ]
  },
  {
   "cell_type": "code",
   "execution_count": 38,
   "metadata": {},
   "outputs": [
    {
     "data": {
      "text/plain": [
       "[33.3000333000333,\n",
       " 66.6000666000666,\n",
       " 99.90009990009989,\n",
       " 133.2001332001332,\n",
       " 166.5001665001665,\n",
       " 199.80019980019978,\n",
       " 233.10023310023308,\n",
       " 266.4002664002664,\n",
       " 299.7002997002997,\n",
       " 333.000333000333,\n",
       " 366.3003663003663,\n",
       " 399.60039960039956,\n",
       " 432.90043290043286]"
      ]
     },
     "execution_count": 38,
     "metadata": {},
     "output_type": "execute_result"
    }
   ],
   "source": [
    "shifts_master"
   ]
  },
  {
   "cell_type": "code",
   "execution_count": 17,
   "metadata": {},
   "outputs": [
    {
     "data": {
      "text/plain": [
       "(8, 7)"
      ]
     },
     "execution_count": 17,
     "metadata": {},
     "output_type": "execute_result"
    }
   ],
   "source": [
    "np.shape(shifts_shuff)"
   ]
  },
  {
   "cell_type": "code",
   "execution_count": 16,
   "metadata": {},
   "outputs": [
    {
     "data": {
      "text/plain": [
       "[[58.27505827505827,\n",
       "  291.37529137529134,\n",
       "  174.82517482517483,\n",
       "  407.9254079254079,\n",
       "  116.55011655011654,\n",
       "  233.10023310023308,\n",
       "  349.65034965034965],\n",
       " [349.65034965034965,\n",
       "  174.82517482517483,\n",
       "  233.10023310023308,\n",
       "  116.55011655011654,\n",
       "  407.9254079254079,\n",
       "  58.27505827505827,\n",
       "  291.37529137529134],\n",
       " [291.37529137529134,\n",
       "  233.10023310023308,\n",
       "  349.65034965034965,\n",
       "  58.27505827505827,\n",
       "  407.9254079254079,\n",
       "  116.55011655011654,\n",
       "  174.82517482517483],\n",
       " [233.10023310023308,\n",
       "  407.9254079254079,\n",
       "  349.65034965034965,\n",
       "  58.27505827505827,\n",
       "  291.37529137529134,\n",
       "  116.55011655011654,\n",
       "  174.82517482517483],\n",
       " [233.10023310023308,\n",
       "  58.27505827505827,\n",
       "  174.82517482517483,\n",
       "  407.9254079254079,\n",
       "  349.65034965034965,\n",
       "  291.37529137529134,\n",
       "  116.55011655011654],\n",
       " [233.10023310023308,\n",
       "  407.9254079254079,\n",
       "  58.27505827505827,\n",
       "  116.55011655011654,\n",
       "  291.37529137529134,\n",
       "  174.82517482517483,\n",
       "  349.65034965034965],\n",
       " [116.55011655011654,\n",
       "  407.9254079254079,\n",
       "  174.82517482517483,\n",
       "  349.65034965034965,\n",
       "  291.37529137529134,\n",
       "  58.27505827505827,\n",
       "  233.10023310023308],\n",
       " [233.10023310023308,\n",
       "  291.37529137529134,\n",
       "  349.65034965034965,\n",
       "  116.55011655011654,\n",
       "  58.27505827505827,\n",
       "  174.82517482517483,\n",
       "  407.9254079254079]]"
      ]
     },
     "execution_count": 16,
     "metadata": {},
     "output_type": "execute_result"
    }
   ],
   "source": [
    "shifts_shuff"
   ]
  },
  {
   "cell_type": "code",
   "execution_count": 27,
   "metadata": {},
   "outputs": [
    {
     "data": {
      "text/plain": [
       "14"
      ]
     },
     "execution_count": 27,
     "metadata": {},
     "output_type": "execute_result"
    }
   ],
   "source": [
    "num_cycles"
   ]
  },
  {
   "cell_type": "code",
   "execution_count": 26,
   "metadata": {},
   "outputs": [
    {
     "data": {
      "text/plain": [
       "(8, 7)"
      ]
     },
     "execution_count": 26,
     "metadata": {},
     "output_type": "execute_result"
    }
   ],
   "source": [
    "np.shape(shifts_shuff)"
   ]
  },
  {
   "cell_type": "code",
   "execution_count": 116,
   "metadata": {},
   "outputs": [
    {
     "data": {
      "text/plain": [
       "646"
      ]
     },
     "execution_count": 116,
     "metadata": {},
     "output_type": "execute_result"
    }
   ],
   "source": [
    "times = [ _[1] for _ in stimuli_master]\n",
    "dur = list(np.diff(times))\n",
    "dur.append(inter_block_dur * 1e3)\n",
    "dur[-5:]\n",
    "len(dur)\n"
   ]
  },
  {
   "cell_type": "code",
   "execution_count": 117,
   "metadata": {},
   "outputs": [
    {
     "data": {
      "text/plain": [
       "646"
      ]
     },
     "execution_count": 117,
     "metadata": {},
     "output_type": "execute_result"
    }
   ],
   "source": [
    "len(stim)"
   ]
  },
  {
   "cell_type": "code",
   "execution_count": 106,
   "metadata": {},
   "outputs": [],
   "source": [
    "times = [ _[1] for _ in stimuli_master]\n",
    "stim = [ _[0] for _ in stimuli_master]"
   ]
  },
  {
   "cell_type": "code",
   "execution_count": 112,
   "metadata": {},
   "outputs": [
    {
     "data": {
      "text/plain": [
       "['grating u', 'grey', 'grating l', 'grey', 'grey']"
      ]
     },
     "execution_count": 112,
     "metadata": {},
     "output_type": "execute_result"
    }
   ],
   "source": [
    "stim[-5:]"
   ]
  },
  {
   "cell_type": "code",
   "execution_count": 113,
   "metadata": {},
   "outputs": [
    {
     "data": {
      "text/plain": [
       "[4466.2004662004765, 1000.0, 4407.925407925388, 1000.0, 4000.0]"
      ]
     },
     "execution_count": 113,
     "metadata": {},
     "output_type": "execute_result"
    }
   ],
   "source": [
    "dur[-5:]"
   ]
  },
  {
   "cell_type": "code",
   "execution_count": 109,
   "metadata": {},
   "outputs": [
    {
     "data": {
      "text/plain": [
       "645"
      ]
     },
     "execution_count": 109,
     "metadata": {},
     "output_type": "execute_result"
    }
   ],
   "source": [
    "dur = list(np.diff(times))\n",
    "len(dur)"
   ]
  },
  {
   "cell_type": "code",
   "execution_count": 29,
   "metadata": {},
   "outputs": [],
   "source": [
    "loomtimes = np.asarray([ _[1] for _ in stimuli_master if _[0] == 'loom'])"
   ]
  },
  {
   "cell_type": "code",
   "execution_count": 30,
   "metadata": {},
   "outputs": [
    {
     "data": {
      "text/plain": [
       "[<matplotlib.lines.Line2D at 0x1131d93c8>]"
      ]
     },
     "execution_count": 30,
     "metadata": {},
     "output_type": "execute_result"
    },
    {
     "data": {
      "image/png": "[encoded data removed]",
      "text/plain": [
       "<Figure size 432x288 with 1 Axes>"
      ]
     },
     "metadata": {},
     "output_type": "display_data"
    }
   ],
   "source": [
    "plt.plot(loomtimes/1e3, 'x')"
   ]
  },
  {
   "cell_type": "code",
   "execution_count": 40,
   "metadata": {},
   "outputs": [
    {
     "name": "stdout",
     "output_type": "stream",
     "text": [
      "70\n"
     ]
    },
    {
     "data": {
      "image/png": "[encoded data removed]",
      "text/plain": [
       "<Figure size 720x720 with 1 Axes>"
      ]
     },
     "metadata": {},
     "output_type": "display_data"
    }
   ],
   "source": [
    "### Code for testing correct stimulus spacing ###\n",
    "\n",
    "temp = list(range(100000))\n",
    "image_times = [ _ * (1 / imaging_rate * 1e3) for _ in temp]\n",
    "stim_list = [stim[0] for stim in stimuli_master]\n",
    "\n",
    "fig = plt.figure(figsize=(10,10))\n",
    "stim_names = [stimuli[name][0] for name in range(len(stimuli))]\n",
    "for name in ['loom']:\n",
    "    stim = list(np.where(np.asarray(stim_list) == name)[0])\n",
    "    times = [stimuli_master[stim][1] for stim in stim]\n",
    "    print(len(times))\n",
    "    for block in range(num_blocks):\n",
    "        delays_test = []\n",
    "        for stim_time in times[block*num_cycles:block*num_cycles+num_cycles]:\n",
    "            for i in range(len(image_times)):\n",
    "                if stim_time < image_times[i]:\n",
    "                    delays_test.append(stim_time-image_times[i-1])\n",
    "                    break\n",
    "        plt.plot(sorted(delays_test, key=int),'x')"
   ]
  },
  {
   "cell_type": "code",
   "execution_count": 38,
   "metadata": {},
   "outputs": [
    {
     "name": "stdout",
     "output_type": "stream",
     "text": [
      "70\n"
     ]
    },
    {
     "data": {
      "image/png": "[encoded data removed]",
      "text/plain": [
       "<Figure size 720x720 with 1 Axes>"
      ]
     },
     "metadata": {},
     "output_type": "display_data"
    }
   ],
   "source": [
    "### Code for testing correct stimulus spacing ###\n",
    "\n",
    "temp = list(range(100000))\n",
    "image_times = [ _ * (1 / imaging_rate * 1e3) for _ in temp]\n",
    "stim_list = [stim[0] for stim in stimuli_master]\n",
    "\n",
    "fig = plt.figure(figsize=(10,10))\n",
    "stim_names = [stimuli[name][0] for name in range(len(stimuli))]\n",
    "for name in ['loom']:\n",
    "    stim = list(np.where(np.asarray(stim_list) == name)[0])\n",
    "    times = [stimuli_master[stim][1] for stim in stim]\n",
    "    print(len(times))\n",
    "    for block in range(2):\n",
    "        delays_test = []\n",
    "        for stim_time in times[:8]:\n",
    "            for i in range(len(image_times)):\n",
    "                if stim_time < image_times[i]:\n",
    "                    delays_test.append(stim_time-image_times[i-1])\n",
    "                    break\n",
    "        plt.plot(sorted(delays_test, key=int),'x')"
   ]
  },
  {
   "cell_type": "code",
   "execution_count": null,
   "metadata": {},
   "outputs": [],
   "source": [
    "### Code for testing correct stimulus spacing ###\n",
    "\n",
    "temp = list(range(10000))\n",
    "image_times = [ _ * (1 / imaging_rate * 1e3) for _ in temp]\n",
    "stim_list = [stim[0] for stim in stimuli_master]\n",
    "\n",
    "fig = plt.figure(figsize=(10,10))\n",
    "stim_names = [stimuli[name][0] for name in range(len(stimuli))]\n",
    "for name in stim_names:\n",
    "    stim = list(np.where(np.asarray(stim_list) == name)[0])\n",
    "    times = [stimuli_master[stim][1] for stim in stim]\n",
    "    delays_test = []\n",
    "    for stim_time in times:\n",
    "        for i in range(len(image_times)):\n",
    "            if stim_time < image_times[i]:\n",
    "                delays_test.append(stim_time-image_times[i-1])\n",
    "                break\n",
    "    plt.plot(sorted(delays_test, key=int),'x')"
   ]
  },
  {
   "cell_type": "code",
   "execution_count": 9,
   "metadata": {},
   "outputs": [],
   "source": [
    "# for i in stim_ids_shuff:\n",
    "#     stim_loc = int(np.where(np.asarray(stim_ids_shuff_first) == i)[0])\n",
    "#     stim1 = first_stim[stim_loc][1]\n",
    "#     stim2 = stim1 - time\n",
    "#     stim_offset = (stim2 - stim1) % (1 / imaging_rate)\n",
    "#     stimuli_master.append((stimuli[i][0], time))"
   ]
  }
 ],
 "metadata": {
  "kernelspec": {
   "display_name": "Python 3",
   "language": "python",
   "name": "python3"
  },
  "language_info": {
   "codemirror_mode": {
    "name": "ipython",
    "version": 3
   },
   "file_extension": ".py",
   "mimetype": "text/x-python",
   "name": "python",
   "nbconvert_exporter": "python",
   "pygments_lexer": "ipython3",
   "version": "3.7.0"
  }
 },
 "nbformat": 4,
 "nbformat_minor": 2
}
